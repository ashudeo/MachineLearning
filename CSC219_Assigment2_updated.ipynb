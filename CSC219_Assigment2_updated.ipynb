{
 "cells": [
  {
   "cell_type": "markdown",
   "metadata": {
    "colab_type": "text",
    "id": "v3vQS1-R5GsC"
   },
   "source": [
    "### Your name:\n",
    "\n",
    "<pre> Rishab Kamshetty </pre>\n",
    "\n",
    "### Collaborators:\n",
    "\n",
    "<pre> Ashutosh Deowanshi </pre>\n"
   ]
  },
  {
   "cell_type": "markdown",
   "metadata": {
    "colab_type": "text",
    "id": "kOTPc68p5GsF"
   },
   "source": [
    "In this assignment you will train different models on a given data set, and find the one that performs best"
   ]
  },
  {
   "cell_type": "markdown",
   "metadata": {
    "colab_type": "text",
    "id": "e9q7tVpG5GsI"
   },
   "source": [
    "### Getting the data for the assignment (similar to the notebook you have seen in class)"
   ]
  },
  {
   "cell_type": "code",
   "execution_count": 62,
   "metadata": {
    "colab": {},
    "colab_type": "code",
    "id": "WR6rloZM5GsM"
   },
   "outputs": [],
   "source": [
    "import os\n",
    "import tarfile\n",
    "from six.moves import urllib\n",
    "\n",
    "DOWNLOAD_ROOT = \"https://raw.githubusercontent.com/ageron/handson-ml/master/\"\n",
    "HOUSING_PATH = os.path.join(\"datasets\", \"housing\")\n",
    "HOUSING_URL = DOWNLOAD_ROOT + \"datasets/housing/housing.tgz\"\n",
    "\n",
    "def fetch_housing_data(housing_url=HOUSING_URL, housing_path=HOUSING_PATH):\n",
    "    if not os.path.isdir(housing_path):\n",
    "        os.makedirs(housing_path)\n",
    "    tgz_path = os.path.join(housing_path, \"housing.tgz\")\n",
    "    urllib.request.urlretrieve(housing_url, tgz_path)\n",
    "    housing_tgz = tarfile.open(tgz_path)\n",
    "    housing_tgz.extractall(path=housing_path)\n",
    "    housing_tgz.close()"
   ]
  },
  {
   "cell_type": "code",
   "execution_count": 63,
   "metadata": {
    "colab": {},
    "colab_type": "code",
    "id": "fQazZHfI5GsU"
   },
   "outputs": [],
   "source": [
    "fetch_housing_data()"
   ]
  },
  {
   "cell_type": "code",
   "execution_count": 64,
   "metadata": {
    "colab": {},
    "colab_type": "code",
    "id": "mZVWOdjG5Gsc"
   },
   "outputs": [],
   "source": [
    "import pandas as pd\n",
    "\n",
    "def load_housing_data(housing_path=HOUSING_PATH):\n",
    "    csv_path = os.path.join(housing_path, \"housing.csv\")\n",
    "    return pd.read_csv(csv_path)"
   ]
  },
  {
   "cell_type": "code",
   "execution_count": 65,
   "metadata": {
    "colab": {},
    "colab_type": "code",
    "id": "Fhp9KlqD5Gsk"
   },
   "outputs": [],
   "source": [
    "housing = load_housing_data()"
   ]
  },
  {
   "cell_type": "markdown",
   "metadata": {
    "colab_type": "text",
    "id": "IvagbVy55Gsr"
   },
   "source": [
    "### Fix the categories in the categorical variable"
   ]
  },
  {
   "cell_type": "code",
   "execution_count": 66,
   "metadata": {
    "colab": {},
    "colab_type": "code",
    "id": "yf5vdzAQ5Gst"
   },
   "outputs": [],
   "source": [
    "d = {'<1H OCEAN':'LESS_1H_OCEAN', 'INLAND':'INLAND', 'ISLAND':'ISLAND', 'NEAR BAY':'NEAR_BAY', 'NEAR OCEAN':'NEAR_OCEAN'}\n",
    "housing['ocean_proximity'] = housing['ocean_proximity'].map(lambda s: d[s])"
   ]
  },
  {
   "cell_type": "markdown",
   "metadata": {
    "colab_type": "text",
    "id": "J5WMrIjq5Gs1"
   },
   "source": [
    "### Add 2 more features"
   ]
  },
  {
   "cell_type": "code",
   "execution_count": 67,
   "metadata": {
    "colab": {},
    "colab_type": "code",
    "id": "zbexDu2N5Gs3"
   },
   "outputs": [],
   "source": [
    "housing[\"rooms_per_household\"] = housing[\"total_rooms\"]/housing[\"households\"]\n",
    "housing[\"population_per_household\"]=housing[\"population\"]/housing[\"households\"]"
   ]
  },
  {
   "cell_type": "markdown",
   "metadata": {
    "colab_type": "text",
    "id": "cXCgKORl5Gs-"
   },
   "source": [
    "### Fix missing data"
   ]
  },
  {
   "cell_type": "code",
   "execution_count": 68,
   "metadata": {
    "colab": {},
    "colab_type": "code",
    "id": "UbaOV0Ja5GtA"
   },
   "outputs": [],
   "source": [
    "median = housing[\"total_bedrooms\"].median()\n",
    "housing[\"total_bedrooms\"].fillna(median, inplace=True) "
   ]
  },
  {
   "cell_type": "markdown",
   "metadata": {
    "colab_type": "text",
    "id": "1FlglAyz5GtG"
   },
   "source": [
    "### Create dummy variables based on the categorical variable"
   ]
  },
  {
   "cell_type": "code",
   "execution_count": 69,
   "metadata": {
    "colab": {},
    "colab_type": "code",
    "id": "LFJvo6zz5GtJ"
   },
   "outputs": [],
   "source": [
    "one_hot = pd.get_dummies(housing['ocean_proximity'])\n",
    "housing = housing.drop('ocean_proximity', axis=1)\n",
    "housing = housing.join(one_hot)"
   ]
  },
  {
   "cell_type": "markdown",
   "metadata": {
    "colab_type": "text",
    "id": "30WTbVDz5GtR"
   },
   "source": [
    "### Check the data"
   ]
  },
  {
   "cell_type": "code",
   "execution_count": 70,
   "metadata": {
    "colab": {
     "base_uri": "https://localhost:8080/",
     "height": 370
    },
    "colab_type": "code",
    "executionInfo": {
     "elapsed": 1036,
     "status": "ok",
     "timestamp": 1570943967498,
     "user": {
      "displayName": "Rishab Kamshetty",
      "photoUrl": "https://lh3.googleusercontent.com/a-/AAuE7mDJ5emaMK0Bvs8vtMsl9_NbMpq17n6SjubWRITNtg=s64",
      "userId": "06410914023513454727"
     },
     "user_tz": 420
    },
    "id": "i4BaM5L05GtU",
    "outputId": "67d59310-584a-483b-8964-1958d84d843d"
   },
   "outputs": [
    {
     "name": "stdout",
     "output_type": "stream",
     "text": [
      "<class 'pandas.core.frame.DataFrame'>\n",
      "RangeIndex: 20640 entries, 0 to 20639\n",
      "Data columns (total 16 columns):\n",
      "longitude                   20640 non-null float64\n",
      "latitude                    20640 non-null float64\n",
      "housing_median_age          20640 non-null float64\n",
      "total_rooms                 20640 non-null float64\n",
      "total_bedrooms              20640 non-null float64\n",
      "population                  20640 non-null float64\n",
      "households                  20640 non-null float64\n",
      "median_income               20640 non-null float64\n",
      "median_house_value          20640 non-null float64\n",
      "rooms_per_household         20640 non-null float64\n",
      "population_per_household    20640 non-null float64\n",
      "INLAND                      20640 non-null uint8\n",
      "ISLAND                      20640 non-null uint8\n",
      "LESS_1H_OCEAN               20640 non-null uint8\n",
      "NEAR_BAY                    20640 non-null uint8\n",
      "NEAR_OCEAN                  20640 non-null uint8\n",
      "dtypes: float64(11), uint8(5)\n",
      "memory usage: 1.8 MB\n"
     ]
    }
   ],
   "source": [
    "housing.info()"
   ]
  },
  {
   "cell_type": "markdown",
   "metadata": {
    "colab_type": "text",
    "id": "mWQJerVn5Gtb"
   },
   "source": [
    "# ASSIGNMENT"
   ]
  },
  {
   "cell_type": "markdown",
   "metadata": {
    "colab_type": "text",
    "id": "zWq9u3Lv5Gte"
   },
   "source": [
    "### 1. Partition into train and test\n",
    "\n",
    "Use train_test_split from sklearn.model_selection to partition the dataset into 70% for training and 30% for testing.\n",
    "\n",
    "You can use the 70% for training set as both training and validation by using cross-validation.\n"
   ]
  },
  {
   "cell_type": "code",
   "execution_count": 71,
   "metadata": {
    "colab": {
     "base_uri": "https://localhost:8080/",
     "height": 34
    },
    "colab_type": "code",
    "executionInfo": {
     "elapsed": 1021,
     "status": "ok",
     "timestamp": 1570943967500,
     "user": {
      "displayName": "Rishab Kamshetty",
      "photoUrl": "https://lh3.googleusercontent.com/a-/AAuE7mDJ5emaMK0Bvs8vtMsl9_NbMpq17n6SjubWRITNtg=s64",
      "userId": "06410914023513454727"
     },
     "user_tz": 420
    },
    "id": "vvWuFQro5Gtg",
    "outputId": "e9163293-15e3-4eed-956e-7771e2c28c4c"
   },
   "outputs": [
    {
     "name": "stdout",
     "output_type": "stream",
     "text": [
      "14447 6192\n"
     ]
    }
   ],
   "source": [
    "from sklearn.model_selection import train_test_split\n",
    "train_set, test_set = train_test_split(housing,train_size=0.7, test_size=0.3,random_state=47)\n",
    "print(len(train_set),len(test_set))"
   ]
  },
  {
   "cell_type": "markdown",
   "metadata": {
    "colab_type": "text",
    "id": "zdJzlpnk5Gtm"
   },
   "source": [
    "### Features"
   ]
  },
  {
   "cell_type": "code",
   "execution_count": 72,
   "metadata": {
    "colab": {},
    "colab_type": "code",
    "id": "x9sqHK1D5Gto"
   },
   "outputs": [],
   "source": [
    "target = 'median_house_value'\n",
    "features = list(train_set.columns)\n",
    "features = [f for f in features if f!=target]"
   ]
  },
  {
   "cell_type": "code",
   "execution_count": 73,
   "metadata": {
    "colab": {},
    "colab_type": "code",
    "id": "PQJ_t3hl5Gtu"
   },
   "outputs": [],
   "source": [
    "X_tr = train_set[features]\n",
    "y_tr = train_set[[target]]\n",
    "\n",
    "X_te = test_set[features]\n",
    "y_te = test_set[[target]]"
   ]
  },
  {
   "cell_type": "markdown",
   "metadata": {
    "colab_type": "text",
    "id": "PzHOgcU65Gty"
   },
   "source": [
    "### 2. Polynomial transformations"
   ]
  },
  {
   "cell_type": "markdown",
   "metadata": {
    "colab_type": "text",
    "id": "kAJudAss5Gtz"
   },
   "source": [
    "Use PolynomialFeatures from sklearn.preprocessing"
   ]
  },
  {
   "cell_type": "code",
   "execution_count": 74,
   "metadata": {
    "colab": {
     "base_uri": "https://localhost:8080/",
     "height": 34
    },
    "colab_type": "code",
    "executionInfo": {
     "elapsed": 1229,
     "status": "ok",
     "timestamp": 1570943967775,
     "user": {
      "displayName": "Rishab Kamshetty",
      "photoUrl": "https://lh3.googleusercontent.com/a-/AAuE7mDJ5emaMK0Bvs8vtMsl9_NbMpq17n6SjubWRITNtg=s64",
      "userId": "06410914023513454727"
     },
     "user_tz": 420
    },
    "id": "GcYgx_I35Gt1",
    "outputId": "f1407a95-9f72-47f4-c2e7-e0ba687f7e46"
   },
   "outputs": [
    {
     "name": "stdout",
     "output_type": "stream",
     "text": [
      "(14447, 136) (6192, 136)\n"
     ]
    }
   ],
   "source": [
    "from sklearn.preprocessing import PolynomialFeatures\n",
    "poly = PolynomialFeatures(2)\n",
    "poly.fit(X_tr)\n",
    "X_tr = poly.transform(X_tr)\n",
    "X_te = poly.transform(X_te)\n",
    "print(str(X_tr.shape),str(X_te.shape))"
   ]
  },
  {
   "cell_type": "markdown",
   "metadata": {
    "colab_type": "text",
    "id": "1ooGfQPC5Gt4"
   },
   "source": [
    "##### You should obtain X_tr and X_te with 136 columns each, since originally you had 15 features.\n",
    "\n",
    "##### With m original features, the new added polynomial features of degree 2 are: $(m^2-m)/2+m+1$. Why?\n",
    "\n",
    "##### These, plus the original features gives a total of  $(m^2-m)/2+2m+1$"
   ]
  },
  {
   "cell_type": "code",
   "execution_count": 75,
   "metadata": {
    "colab": {
     "base_uri": "https://localhost:8080/",
     "height": 50
    },
    "colab_type": "code",
    "executionInfo": {
     "elapsed": 1211,
     "status": "ok",
     "timestamp": 1570943967777,
     "user": {
      "displayName": "Rishab Kamshetty",
      "photoUrl": "https://lh3.googleusercontent.com/a-/AAuE7mDJ5emaMK0Bvs8vtMsl9_NbMpq17n6SjubWRITNtg=s64",
      "userId": "06410914023513454727"
     },
     "user_tz": 420
    },
    "id": "Q_NpvJxe5Gt5",
    "outputId": "588e4b17-8ea5-453e-c043-742f47475bc6"
   },
   "outputs": [
    {
     "name": "stdout",
     "output_type": "stream",
     "text": [
      "Original number of features: 15\n",
      "Final number of features: 136\n"
     ]
    }
   ],
   "source": [
    "print(\"Original number of features: \"+str(len(features)))\n",
    "print(\"Final number of features: \"+str(X_tr.shape[1]))"
   ]
  },
  {
   "cell_type": "markdown",
   "metadata": {
    "colab_type": "text",
    "id": "dQIi2G275Gt9"
   },
   "source": [
    "### 3. Scaling features"
   ]
  },
  {
   "cell_type": "markdown",
   "metadata": {
    "colab_type": "text",
    "id": "af3FsDh55Gt-"
   },
   "source": [
    "Similarly, use StandardScaler from sklearn.preprocessing to normalize the training and testing data, using the training data"
   ]
  },
  {
   "cell_type": "code",
   "execution_count": 76,
   "metadata": {
    "colab": {
     "base_uri": "https://localhost:8080/",
     "height": 235
    },
    "colab_type": "code",
    "executionInfo": {
     "elapsed": 1190,
     "status": "ok",
     "timestamp": 1570943967778,
     "user": {
      "displayName": "Rishab Kamshetty",
      "photoUrl": "https://lh3.googleusercontent.com/a-/AAuE7mDJ5emaMK0Bvs8vtMsl9_NbMpq17n6SjubWRITNtg=s64",
      "userId": "06410914023513454727"
     },
     "user_tz": 420
    },
    "id": "MmtxI-UQ5Gt_",
    "outputId": "7d9b798e-1a2a-48c0-c864-4c22bd1459ab"
   },
   "outputs": [
    {
     "data": {
      "text/plain": [
       "array([[ 0.        ,  0.94655253, -1.01023863, ..., -0.35513449,\n",
       "         0.        , -0.38215385],\n",
       "       [ 0.        , -0.84381922,  1.09140795, ..., -0.35513449,\n",
       "         0.        , -0.38215385],\n",
       "       [ 0.        ,  0.53646738, -0.75222399, ..., -0.35513449,\n",
       "         0.        , -0.38215385],\n",
       "       ...,\n",
       "       [ 0.        ,  0.64649023, -0.76629751, ..., -0.35513449,\n",
       "         0.        , -0.38215385],\n",
       "       [ 0.        ,  0.5514705 , -0.75222399, ..., -0.35513449,\n",
       "         0.        , -0.38215385],\n",
       "       [ 0.        , -0.3337133 ,  1.74348133, ..., -0.35513449,\n",
       "         0.        , -0.38215385]])"
      ]
     },
     "execution_count": 76,
     "metadata": {},
     "output_type": "execute_result"
    }
   ],
   "source": [
    "from sklearn.preprocessing import StandardScaler\n",
    "scaler = StandardScaler()\n",
    "X_tr = scaler.fit_transform(X_tr)\n",
    "X_te = scaler.transform(X_te)\n",
    "scaler.fit_transform(X_tr)\n",
    "scaler.transform (X_te)"
   ]
  },
  {
   "cell_type": "markdown",
   "metadata": {
    "colab_type": "text",
    "id": "b5a_Ik9G5GuC"
   },
   "source": [
    "#### Comparing models"
   ]
  },
  {
   "cell_type": "code",
   "execution_count": 77,
   "metadata": {
    "colab": {},
    "colab_type": "code",
    "id": "WpRy-O6Q5GuD"
   },
   "outputs": [],
   "source": [
    "from sklearn.model_selection import cross_val_score\n",
    "from sklearn.model_selection import GridSearchCV\n",
    "import numpy as np\n",
    "\n",
    "def display_scores(scores):\n",
    "    print(\"Scores:\", scores)\n",
    "    print(\"Mean:\", scores.mean())"
   ]
  },
  {
   "cell_type": "markdown",
   "metadata": {
    "colab_type": "text",
    "id": "sejJIdxc5GuK"
   },
   "source": [
    "### 4. Linear regression on original features (no transformations) --- benchmark\n",
    "\n",
    "#### Your goal is to find the model that minimizes the rmse score"
   ]
  },
  {
   "cell_type": "code",
   "execution_count": 78,
   "metadata": {
    "colab": {
     "base_uri": "https://localhost:8080/",
     "height": 50
    },
    "colab_type": "code",
    "executionInfo": {
     "elapsed": 1307,
     "status": "ok",
     "timestamp": 1570943967927,
     "user": {
      "displayName": "Rishab Kamshetty",
      "photoUrl": "https://lh3.googleusercontent.com/a-/AAuE7mDJ5emaMK0Bvs8vtMsl9_NbMpq17n6SjubWRITNtg=s64",
      "userId": "06410914023513454727"
     },
     "user_tz": 420
    },
    "id": "hihxj_5W5GuL",
    "outputId": "d9458504-4457-48bb-bba3-1cd726bc3b86"
   },
   "outputs": [
    {
     "name": "stdout",
     "output_type": "stream",
     "text": [
      "Scores: [69457.70356115 68373.10151962 67990.13265268 67282.08614695]\n",
      "Mean: 68275.75597009811\n"
     ]
    }
   ],
   "source": [
    "from sklearn.linear_model import LinearRegression\n",
    "lin_scores = cross_val_score(LinearRegression(), train_set[features], train_set[target], scoring=\"neg_mean_squared_error\", cv=4)\n",
    "lin_rmse_scores = np.sqrt(-lin_scores)\n",
    "display_scores(lin_rmse_scores)"
   ]
  },
  {
   "cell_type": "markdown",
   "metadata": {
    "colab_type": "text",
    "id": "CAgb5CZx5GuN"
   },
   "source": [
    "### 5. Linear regression  (on transformed features: polynomial transformation + scaling)"
   ]
  },
  {
   "cell_type": "markdown",
   "metadata": {
    "colab_type": "text",
    "id": "UT6fBoU_5GuO"
   },
   "source": [
    "Now do as in 4 but with the transformed features (136 features)"
   ]
  },
  {
   "cell_type": "code",
   "execution_count": 79,
   "metadata": {
    "colab": {
     "base_uri": "https://localhost:8080/",
     "height": 50
    },
    "colab_type": "code",
    "executionInfo": {
     "elapsed": 1823,
     "status": "ok",
     "timestamp": 1570943968458,
     "user": {
      "displayName": "Rishab Kamshetty",
      "photoUrl": "https://lh3.googleusercontent.com/a-/AAuE7mDJ5emaMK0Bvs8vtMsl9_NbMpq17n6SjubWRITNtg=s64",
      "userId": "06410914023513454727"
     },
     "user_tz": 420
    },
    "id": "uYwB-dVZ5GuO",
    "outputId": "220a5747-8215-43e1-8978-02c96202e6f5"
   },
   "outputs": [
    {
     "name": "stdout",
     "output_type": "stream",
     "text": [
      "Scores: [1.37904205e+16 8.12136647e+15 2.46848658e+15 4.41772394e+05]\n",
      "Mean: 6095068388605161.0\n"
     ]
    }
   ],
   "source": [
    "from sklearn.linear_model import LinearRegression\n",
    "lin_scores = cross_val_score(LinearRegression(),X_tr,np.ravel(y_tr), scoring=\"neg_mean_squared_error\", cv=4)\n",
    "lin_rmse_scores = np.sqrt(-lin_scores)\n",
    "display_scores(lin_rmse_scores)"
   ]
  },
  {
   "cell_type": "markdown",
   "metadata": {
    "colab_type": "text",
    "id": "J727YdAX5GuR"
   },
   "source": [
    "If the error on the cross-validation is too high it is because the model is over-fitting. Regularization is needed."
   ]
  },
  {
   "cell_type": "markdown",
   "metadata": {
    "colab_type": "text",
    "id": "Wcvb1gyc5GuR"
   },
   "source": [
    "### 6. Ridge regression"
   ]
  },
  {
   "cell_type": "code",
   "execution_count": 80,
   "metadata": {
    "colab": {
     "base_uri": "https://localhost:8080/",
     "height": 151
    },
    "colab_type": "code",
    "executionInfo": {
     "elapsed": 2796,
     "status": "ok",
     "timestamp": 1570943969448,
     "user": {
      "displayName": "Rishab Kamshetty",
      "photoUrl": "https://lh3.googleusercontent.com/a-/AAuE7mDJ5emaMK0Bvs8vtMsl9_NbMpq17n6SjubWRITNtg=s64",
      "userId": "06410914023513454727"
     },
     "user_tz": 420
    },
    "id": "rtBhCPyP5GuS",
    "outputId": "d0b767a9-7825-4ed5-c304-fccbd91b31c1"
   },
   "outputs": [
    {
     "data": {
      "text/plain": [
       "GridSearchCV(cv=3, error_score='raise-deprecating',\n",
       "             estimator=Ridge(alpha=1.0, copy_X=True, fit_intercept=True,\n",
       "                             max_iter=None, normalize=False, random_state=None,\n",
       "                             solver='auto', tol=0.001),\n",
       "             iid='warn', n_jobs=None,\n",
       "             param_grid=[{'alpha': [0.001, 0.01, 0.1, 1, 10, 100, 1000, 1000]}],\n",
       "             pre_dispatch='2*n_jobs', refit=True, return_train_score=False,\n",
       "             scoring='neg_mean_squared_error', verbose=0)"
      ]
     },
     "execution_count": 80,
     "metadata": {},
     "output_type": "execute_result"
    }
   ],
   "source": [
    "from sklearn.linear_model import Ridge\n",
    "param_grid = [{'alpha': [0.001,0.01,0.1,1,10,100,1000,1000]}]\n",
    "grid_search_rr = GridSearchCV(Ridge(), param_grid, cv=3, scoring='neg_mean_squared_error')\n",
    "grid_search_rr.fit(X_tr, y_tr)"
   ]
  },
  {
   "cell_type": "code",
   "execution_count": 81,
   "metadata": {
    "colab": {
     "base_uri": "https://localhost:8080/",
     "height": 50
    },
    "colab_type": "code",
    "executionInfo": {
     "elapsed": 2788,
     "status": "ok",
     "timestamp": 1570943969451,
     "user": {
      "displayName": "Rishab Kamshetty",
      "photoUrl": "https://lh3.googleusercontent.com/a-/AAuE7mDJ5emaMK0Bvs8vtMsl9_NbMpq17n6SjubWRITNtg=s64",
      "userId": "06410914023513454727"
     },
     "user_tz": 420
    },
    "id": "nECneVHz5GuW",
    "outputId": "dec20b33-67c4-4637-aa96-e4b61ab67aa0"
   },
   "outputs": [
    {
     "name": "stdout",
     "output_type": "stream",
     "text": [
      "{'alpha': 1000}\n",
      "66440.58508730112\n"
     ]
    }
   ],
   "source": [
    "print(grid_search_rr.best_params_)\n",
    "print(np.sqrt(-grid_search_rr.best_score_))"
   ]
  },
  {
   "cell_type": "markdown",
   "metadata": {
    "colab_type": "text",
    "id": "mRQ5gSoR5GuY"
   },
   "source": [
    "### 7. Lasso regression\n",
    "\n",
    "Now do the same as in 6 but with Lasso"
   ]
  },
  {
   "cell_type": "code",
   "execution_count": 82,
   "metadata": {
    "colab": {
     "base_uri": "https://localhost:8080/",
     "height": 168
    },
    "colab_type": "code",
    "executionInfo": {
     "elapsed": 29618,
     "status": "ok",
     "timestamp": 1570943996294,
     "user": {
      "displayName": "Rishab Kamshetty",
      "photoUrl": "https://lh3.googleusercontent.com/a-/AAuE7mDJ5emaMK0Bvs8vtMsl9_NbMpq17n6SjubWRITNtg=s64",
      "userId": "06410914023513454727"
     },
     "user_tz": 420
    },
    "id": "aDW9gG7i5GuZ",
    "outputId": "2c7d3847-f064-4ce7-e4d3-1eedf0a7b070"
   },
   "outputs": [
    {
     "data": {
      "text/plain": [
       "GridSearchCV(cv=3, error_score='raise-deprecating',\n",
       "             estimator=Lasso(alpha=1.0, copy_X=True, fit_intercept=True,\n",
       "                             max_iter=1000, normalize=False, positive=False,\n",
       "                             precompute=False, random_state=None,\n",
       "                             selection='cyclic', tol=0.0001, warm_start=False),\n",
       "             iid='warn', n_jobs=None,\n",
       "             param_grid=[{'alpha': [0.001, 0.01, 0.1, 1, 10, 100, 1000]}],\n",
       "             pre_dispatch='2*n_jobs', refit=True, return_train_score=False,\n",
       "             scoring='neg_mean_squared_error', verbose=0)"
      ]
     },
     "execution_count": 82,
     "metadata": {},
     "output_type": "execute_result"
    }
   ],
   "source": [
    "from sklearn.linear_model import Lasso\n",
    "import warnings\n",
    "warnings.filterwarnings(action=\"ignore\")\n",
    "\n",
    "param_grid = [{'alpha': [0.001,0.01,0.1,1,10,100,1000]}]\n",
    "\n",
    "grid_search_lr = GridSearchCV(Lasso(), param_grid, cv=3, scoring='neg_mean_squared_error')\n",
    "grid_search_lr.fit(X_tr, y_tr)"
   ]
  },
  {
   "cell_type": "code",
   "execution_count": 83,
   "metadata": {
    "colab": {
     "base_uri": "https://localhost:8080/",
     "height": 50
    },
    "colab_type": "code",
    "executionInfo": {
     "elapsed": 29611,
     "status": "ok",
     "timestamp": 1570943996297,
     "user": {
      "displayName": "Rishab Kamshetty",
      "photoUrl": "https://lh3.googleusercontent.com/a-/AAuE7mDJ5emaMK0Bvs8vtMsl9_NbMpq17n6SjubWRITNtg=s64",
      "userId": "06410914023513454727"
     },
     "user_tz": 420
    },
    "id": "putt77Yy5Gub",
    "outputId": "e59da621-cc5e-4a27-f36f-268a2a6320f4"
   },
   "outputs": [
    {
     "name": "stdout",
     "output_type": "stream",
     "text": [
      "{'alpha': 1000} Alpha for param\n",
      "66382.38603919715\n"
     ]
    }
   ],
   "source": [
    "print(grid_search_lr.best_params_ , 'Alpha for param')\n",
    "print(np.sqrt(-grid_search_lr.best_score_))"
   ]
  },
  {
   "cell_type": "markdown",
   "metadata": {
    "colab_type": "text",
    "id": "B1PE0Auu5Gud"
   },
   "source": [
    "### 8. Elastic Net regression\n",
    "\n",
    "Do the same as in 6 and 7, but now with Elastic Net. However, the grid search should be over the parameters alpha and  l 1ratio. Use just 3 values for l1_ratio."
   ]
  },
  {
   "cell_type": "code",
   "execution_count": 84,
   "metadata": {
    "colab": {
     "base_uri": "https://localhost:8080/",
     "height": 202
    },
    "colab_type": "code",
    "executionInfo": {
     "elapsed": 81161,
     "status": "ok",
     "timestamp": 1570944047862,
     "user": {
      "displayName": "Rishab Kamshetty",
      "photoUrl": "https://lh3.googleusercontent.com/a-/AAuE7mDJ5emaMK0Bvs8vtMsl9_NbMpq17n6SjubWRITNtg=s64",
      "userId": "06410914023513454727"
     },
     "user_tz": 420
    },
    "id": "lQ958IXi5Gue",
    "outputId": "3e525912-8f73-4ef7-d25c-3eaea1a4c6e0"
   },
   "outputs": [
    {
     "data": {
      "text/plain": [
       "GridSearchCV(cv=3, error_score='raise-deprecating',\n",
       "             estimator=ElasticNet(alpha=1.0, copy_X=True, fit_intercept=True,\n",
       "                                  l1_ratio=0.5, max_iter=1000, normalize=False,\n",
       "                                  positive=False, precompute=False,\n",
       "                                  random_state=None, selection='cyclic',\n",
       "                                  tol=0.0001, warm_start=False),\n",
       "             iid='warn', n_jobs=None,\n",
       "             param_grid=[{'alpha': [0.001, 0.01, 0.1, 1, 10, 100, 1000],\n",
       "                          'l1_ratio': [0.2, 0.5, 0.7]}],\n",
       "             pre_dispatch='2*n_jobs', refit=True, return_train_score=False,\n",
       "             scoring='neg_mean_squared_error', verbose=0)"
      ]
     },
     "execution_count": 84,
     "metadata": {},
     "output_type": "execute_result"
    }
   ],
   "source": [
    "from sklearn.linear_model import ElasticNet\n",
    "param_grid = [{'alpha': [0.001,0.01,0.1,1,10,100,1000],\n",
    "              'l1_ratio': [0.2, 0.5, 0.7]}]\n",
    "grid_search_enr = GridSearchCV(ElasticNet(), param_grid, cv=3, scoring='neg_mean_squared_error')\n",
    "grid_search_enr.fit(X_tr, y_tr)"
   ]
  },
  {
   "cell_type": "code",
   "execution_count": 85,
   "metadata": {
    "colab": {
     "base_uri": "https://localhost:8080/",
     "height": 50
    },
    "colab_type": "code",
    "executionInfo": {
     "elapsed": 81153,
     "status": "ok",
     "timestamp": 1570944047866,
     "user": {
      "displayName": "Rishab Kamshetty",
      "photoUrl": "https://lh3.googleusercontent.com/a-/AAuE7mDJ5emaMK0Bvs8vtMsl9_NbMpq17n6SjubWRITNtg=s64",
      "userId": "06410914023513454727"
     },
     "user_tz": 420
    },
    "id": "MWqjU6iD5Gug",
    "outputId": "88136963-e5fd-4105-da8b-d1e9d0328aa9"
   },
   "outputs": [
    {
     "name": "stdout",
     "output_type": "stream",
     "text": [
      "{'alpha': 0.1, 'l1_ratio': 0.7} Elastic net alpha\n",
      "65652.41766284549\n"
     ]
    }
   ],
   "source": [
    "print(grid_search_enr.best_params_ , 'Elastic net alpha' )\n",
    "print(np.sqrt(-grid_search_enr.best_score_))"
   ]
  },
  {
   "cell_type": "code",
   "execution_count": null,
   "metadata": {
    "colab": {},
    "colab_type": "code",
    "id": "Zt30tyZggXQ-"
   },
   "outputs": [],
   "source": []
  },
  {
   "cell_type": "markdown",
   "metadata": {
    "colab_type": "text",
    "id": "AGk0UevV5Gum"
   },
   "source": [
    "### Evaluating your best model on TESTING data\n",
    "\n",
    "Choose among grid_search_rr, grid_search_lr, and grid_search_enr, the model with best performance"
   ]
  },
  {
   "cell_type": "code",
   "execution_count": 86,
   "metadata": {
    "colab": {
     "base_uri": "https://localhost:8080/",
     "height": 34
    },
    "colab_type": "code",
    "executionInfo": {
     "elapsed": 567,
     "status": "ok",
     "timestamp": 1570944198284,
     "user": {
      "displayName": "Rishab Kamshetty",
      "photoUrl": "https://lh3.googleusercontent.com/a-/AAuE7mDJ5emaMK0Bvs8vtMsl9_NbMpq17n6SjubWRITNtg=s64",
      "userId": "06410914023513454727"
     },
     "user_tz": 420
    },
    "id": "twDm2P8G5Gun",
    "outputId": "c769ffe2-8c16-4bcd-900e-3b6fe7ed27be"
   },
   "outputs": [
    {
     "name": "stdout",
     "output_type": "stream",
     "text": [
      "66157.54978757279\n"
     ]
    }
   ],
   "source": [
    "from sklearn.metrics import mean_squared_error\n",
    "\n",
    "final_model = grid_search_enr.best_estimator_   ## grid_search SHOULD BE THE BEST GRID SEARCH ##\n",
    "\n",
    "y_te_estimation = final_model.predict(X_te)\n",
    "\n",
    "final_mse = mean_squared_error(y_te, y_te_estimation)\n",
    "final_rmse = np.sqrt(final_mse)\n",
    "print(final_rmse)"
   ]
  },
  {
   "cell_type": "code",
   "execution_count": 87,
   "metadata": {
    "colab": {
     "base_uri": "https://localhost:8080/",
     "height": 269
    },
    "colab_type": "code",
    "executionInfo": {
     "elapsed": 82307,
     "status": "ok",
     "timestamp": 1570944049049,
     "user": {
      "displayName": "Rishab Kamshetty",
      "photoUrl": "https://lh3.googleusercontent.com/a-/AAuE7mDJ5emaMK0Bvs8vtMsl9_NbMpq17n6SjubWRITNtg=s64",
      "userId": "06410914023513454727"
     },
     "user_tz": 420
    },
    "id": "upepBGxJ5Gup",
    "outputId": "53cafb78-65d5-4854-b0d9-57e14fadd6e1"
   },
   "outputs": [
    {
     "data": {
      "image/png": "[encoded data removed]",
      "text/plain": [
       "<Figure size 432x288 with 1 Axes>"
      ]
     },
     "metadata": {
      "needs_background": "light"
     },
     "output_type": "display_data"
    }
   ],
   "source": [
    "import matplotlib.pyplot as plt\n",
    "\n",
    "plt.scatter(x=y_te, y=y_te_estimation)\n",
    "plt.xlim([-200000,800000])\n",
    "plt.ylim([-200000,800000])\n",
    "plt.show()"
   ]
  },
  {
   "cell_type": "code",
   "execution_count": 88,
   "metadata": {
    "colab": {
     "base_uri": "https://localhost:8080/",
     "height": 34
    },
    "colab_type": "code",
    "executionInfo": {
     "elapsed": 436,
     "status": "ok",
     "timestamp": 1570944236994,
     "user": {
      "displayName": "Rishab Kamshetty",
      "photoUrl": "https://lh3.googleusercontent.com/a-/AAuE7mDJ5emaMK0Bvs8vtMsl9_NbMpq17n6SjubWRITNtg=s64",
      "userId": "06410914023513454727"
     },
     "user_tz": 420
    },
    "id": "M44KZZUg5Gur",
    "outputId": "fc64774a-313d-445c-a3cc-38d2a423c5df"
   },
   "outputs": [
    {
     "name": "stdout",
     "output_type": "stream",
     "text": [
      "66623.95915256049\n"
     ]
    }
   ],
   "source": [
    "from sklearn.metrics import mean_squared_error\n",
    "\n",
    "final_model = grid_search_rr.best_estimator_   ## grid_search SHOULD BE THE BEST GRID SEARCH ##\n",
    "\n",
    "y_te_estimation = final_model.predict(X_te)\n",
    "\n",
    "final_mse = mean_squared_error(y_te, y_te_estimation)\n",
    "final_rmse = np.sqrt(final_mse)\n",
    "print(final_rmse)"
   ]
  },
  {
   "cell_type": "code",
   "execution_count": 89,
   "metadata": {
    "colab": {
     "base_uri": "https://localhost:8080/",
     "height": 269
    },
    "colab_type": "code",
    "executionInfo": {
     "elapsed": 684,
     "status": "ok",
     "timestamp": 1570944245842,
     "user": {
      "displayName": "Rishab Kamshetty",
      "photoUrl": "https://lh3.googleusercontent.com/a-/AAuE7mDJ5emaMK0Bvs8vtMsl9_NbMpq17n6SjubWRITNtg=s64",
      "userId": "06410914023513454727"
     },
     "user_tz": 420
    },
    "id": "g76MVRn85Gut",
    "outputId": "a2d02c92-d82d-4542-92fa-61ff2c1d41bd"
   },
   "outputs": [
    {
     "data": {
      "image/png": "[encoded data removed]",
      "text/plain": [
       "<Figure size 432x288 with 1 Axes>"
      ]
     },
     "metadata": {
      "needs_background": "light"
     },
     "output_type": "display_data"
    }
   ],
   "source": [
    "import matplotlib.pyplot as plt\n",
    "\n",
    "plt.scatter(x=y_te, y=y_te_estimation)\n",
    "plt.xlim([-200000,800000])\n",
    "plt.ylim([-200000,800000])\n",
    "plt.show()"
   ]
  },
  {
   "cell_type": "code",
   "execution_count": 90,
   "metadata": {
    "colab": {
     "base_uri": "https://localhost:8080/",
     "height": 34
    },
    "colab_type": "code",
    "executionInfo": {
     "elapsed": 420,
     "status": "ok",
     "timestamp": 1570944252830,
     "user": {
      "displayName": "Rishab Kamshetty",
      "photoUrl": "https://lh3.googleusercontent.com/a-/AAuE7mDJ5emaMK0Bvs8vtMsl9_NbMpq17n6SjubWRITNtg=s64",
      "userId": "06410914023513454727"
     },
     "user_tz": 420
    },
    "id": "c0Zom2_l5Guv",
    "outputId": "60ac2ab2-07b3-454a-a37b-6dd63fa88334"
   },
   "outputs": [
    {
     "name": "stdout",
     "output_type": "stream",
     "text": [
      "67489.6681902364\n"
     ]
    }
   ],
   "source": [
    "from sklearn.metrics import mean_squared_error\n",
    "\n",
    "final_model = grid_search_lr.best_estimator_   ## grid_search SHOULD BE THE BEST GRID SEARCH ##\n",
    "\n",
    "y_te_estimation = final_model.predict(X_te)\n",
    "\n",
    "final_mse = mean_squared_error(y_te, y_te_estimation)\n",
    "final_rmse = np.sqrt(final_mse)\n",
    "print(final_rmse)"
   ]
  },
  {
   "cell_type": "code",
   "execution_count": 91,
   "metadata": {
    "colab": {
     "base_uri": "https://localhost:8080/",
     "height": 269
    },
    "colab_type": "code",
    "executionInfo": {
     "elapsed": 646,
     "status": "ok",
     "timestamp": 1570944257814,
     "user": {
      "displayName": "Rishab Kamshetty",
      "photoUrl": "https://lh3.googleusercontent.com/a-/AAuE7mDJ5emaMK0Bvs8vtMsl9_NbMpq17n6SjubWRITNtg=s64",
      "userId": "06410914023513454727"
     },
     "user_tz": 420
    },
    "id": "MxBi8gj85Gux",
    "outputId": "5f730196-f9e2-47f6-8a99-80425d608e4a"
   },
   "outputs": [
    {
     "data": {
      "image/png": "[encoded data removed]",
      "text/plain": [
       "<Figure size 432x288 with 1 Axes>"
      ]
     },
     "metadata": {
      "needs_background": "light"
     },
     "output_type": "display_data"
    }
   ],
   "source": [
    "import matplotlib.pyplot as plt\n",
    "\n",
    "plt.scatter(x=y_te, y=y_te_estimation)\n",
    "plt.xlim([-200000,800000])\n",
    "plt.ylim([-200000,800000])\n",
    "plt.show()"
   ]
  },
  {
   "cell_type": "markdown",
   "metadata": {
    "colab_type": "text",
    "id": "xpt0MuRV5Gu0"
   },
   "source": [
    "**Q1: Before you computed the final_rmse on the test data, what was your expected value for this quantity? Does your best model have high variance?**"
   ]
  },
  {
   "cell_type": "markdown",
   "metadata": {
    "colab_type": "text",
    "id": "8KvIJj7E5Gu1"
   },
   "source": [
    "<pre> \n",
    "Our best model is Elastic net regression because, when we do RMSE on training set, we get 65652.41766284549\n",
    "And on RMSE on Test set is 66157.54978757279\n",
    "\n",
    "As there is no much difference therefore, best model doesn't have high variance</pre>"
   ]
  },
  {
   "cell_type": "markdown",
   "metadata": {
    "colab_type": "text",
    "id": "4fNxE6KR5Gu1"
   },
   "source": [
    "### Submit your notebook\n",
    "\n",
    "Submit your solution on Canvas"
   ]
  }
 ],
 "metadata": {
  "colab": {
   "collapsed_sections": [],
   "name": "CSC219_Assignment_2.ipynb",
   "provenance": []
  },
  "kernelspec": {
   "display_name": "Python 3",
   "language": "python",
   "name": "python3"
  },
  "language_info": {
   "codemirror_mode": {
    "name": "ipython",
    "version": 3
   },
   "file_extension": ".py",
   "mimetype": "text/x-python",
   "name": "python",
   "nbconvert_exporter": "python",
   "pygments_lexer": "ipython3",
   "version": "3.7.3"
  }
 },
 "nbformat": 4,
 "nbformat_minor": 1
}
