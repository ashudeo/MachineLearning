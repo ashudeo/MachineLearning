{
  "nbformat": 4,
  "nbformat_minor": 0,
  "metadata": {
    "anaconda-cloud": {},
    "kernelspec": {
      "name": "python3",
      "display_name": "Python 3"
    },
    "language_info": {
      "codemirror_mode": {
        "name": "ipython",
        "version": 3
      },
      "file_extension": ".py",
      "mimetype": "text/x-python",
      "name": "python",
      "nbconvert_exporter": "python",
      "pygments_lexer": "ipython3",
      "version": "3.7.4"
    },
    "colab": {
      "name": "MNIST.ipynb",
      "provenance": [],
      "collapsed_sections": []
    },
    "accelerator": "GPU"
  },
  "cells": [
    {
      "cell_type": "markdown",
      "metadata": {
        "id": "ppkif2l8V7KY",
        "colab_type": "text"
      },
      "source": [
        "### Your name:\n",
        "\n",
        "<pre> Rishab Kamshetty</pre>\n",
        "\n",
        "### Collaborators:\n",
        "\n",
        "<pre>Ashutosh Deowanshi</pre>\n"
      ]
    },
    {
      "cell_type": "markdown",
      "metadata": {
        "id": "Dy8h_XaAV7Kk",
        "colab_type": "text"
      },
      "source": [
        "##MNIST"
      ]
    },
    {
      "cell_type": "markdown",
      "metadata": {
        "id": "zaXYjJJpV7Kk",
        "colab_type": "text"
      },
      "source": [
        "Q2. (Optional: 10% Extra Credit) Write a function that can shift an MNIST image in any direction (left, right, up, or down) by one pixel. Then, for each image in the training set, create four shifted copies (one per direction) and add them to the training set. Finally, train your best model on this expanded training set and measure its accuracy on the test set. You should observe that your model performs even better now! This technique of artificially growing the training set is called data augmentation or training set expansion.\n",
        "\n",
        "_Note: It may make the training/text process to take several hours!_"
      ]
    },
    {
      "cell_type": "code",
      "metadata": {
        "id": "8cS9J2poxQ_x",
        "colab_type": "code",
        "outputId": "e3d0a2cb-859a-4007-ff1d-c7a6d3ec9c37",
        "colab": {
          "base_uri": "https://localhost:8080/",
          "height": 51
        }
      },
      "source": [
        "\n",
        "import numpy as np\n",
        "import os\n",
        "from sklearn.datasets import fetch_openml\n",
        "from sklearn.neighbors import KNeighborsClassifier\n",
        "from sklearn.metrics import accuracy_score\n",
        "import matplotlib.pyplot as plt\n",
        "\n",
        "np.random.seed(42)                                                               # makes notebook output reproducible across runs\n",
        "\n",
        "def sort_by_target(mnist):                                                       # function is required as 'fetch_openml returns' the unsorted MNIST data\n",
        "    reorder_train = np.array(sorted([(target, i) for i, target in \\\n",
        "                                     enumerate(mnist.target[:60000])]))[:, 1]    # 'sort_by_target' makes the dataset the same as is used in the book\n",
        "    reorder_test = np.array(sorted([(target, i) for i, target in  \\\n",
        "                                     enumerate(mnist.target[60000:])]))[:, 1]\n",
        "    mnist.data[:60000] = mnist.data[reorder_train]\n",
        "    mnist.target[:60000] = mnist.target[reorder_train]\n",
        "    mnist.data[60000:] = mnist.data[reorder_test + 60000]\n",
        "    mnist.target[60000:] = mnist.target[reorder_test + 60000]\n",
        "    \n",
        "mnist = fetch_openml('mnist_784', version=1, cache=True)\n",
        "mnist.target = mnist.target.astype(np.int8)                                      # fetch_openml() returns targets as strings\n",
        "sort_by_target(mnist)                                                            # fetch_openml() returns an unsorted dataset\n",
        "\n",
        "X, y = mnist[\"data\"], mnist[\"target\"]\n",
        "print('Shape of MNIST data: ', X.shape)\n",
        "print('Shape of MNIST target data: ', y.shape)\n",
        "\n",
        "X_train, X_test, y_train, y_test = X[:60000], X[60000:], y[:60000], y[60000:]\n",
        "shuffle_index = np.random.permutation(60000)\n",
        "X_train, y_train = X_train[shuffle_index], y_train[shuffle_index]"
      ],
      "execution_count": 0,
      "outputs": [
        {
          "output_type": "stream",
          "text": [
            "Shape of MNIST data:  (70000, 784)\n",
            "Shape of MNIST target data:  (70000,)\n"
          ],
          "name": "stdout"
        }
      ]
    },
    {
      "cell_type": "code",
      "metadata": {
        "id": "vet-ZnghxLXq",
        "colab_type": "code",
        "outputId": "6e595af1-8421-464b-fcc5-b49fa8a9d9ce",
        "colab": {
          "base_uri": "https://localhost:8080/",
          "height": 157
        }
      },
      "source": [
        "\n",
        "def plot_digit(image):                                                           # function to plot digits, each consists of a 28x28 pixel array which we must shift\n",
        "    image = image.reshape((28, 28))\n",
        "    plt.figure(figsize=(2, 2))\n",
        "    plt.imshow(image)\n",
        "    plt.axis('off')\n",
        "\n",
        "plot_digit(X_train[40000])\n",
        "print('The digit below has the target value of', y_train[40000])"
      ],
      "execution_count": 0,
      "outputs": [
        {
          "output_type": "stream",
          "text": [
            "The digit below has the target value of 9\n"
          ],
          "name": "stdout"
        },
        {
          "output_type": "display_data",
          "data": {
            "image/png": "[encoded data removed]",
            "text/plain": [
              "<Figure size 144x144 with 1 Axes>"
            ]
          },
          "metadata": {
            "tags": []
          }
        }
      ]
    },
    {
      "cell_type": "code",
      "metadata": {
        "id": "f6-bzRdKxlFb",
        "colab_type": "code",
        "outputId": "43d2c32d-76cf-424b-ff95-b5b2d1c664e0",
        "colab": {
          "base_uri": "https://localhost:8080/",
          "height": 102
        }
      },
      "source": [
        "def shift_mnist_images(direction, X_train):\n",
        "    X_train_shift = np.copy(X_train)\n",
        "    if direction == 'up':\n",
        "        shift_vert = -1\n",
        "        shift_horiz = 0\n",
        "    elif direction == 'down':\n",
        "        shift_vert = 1\n",
        "        shift_horiz = 0\n",
        "    elif direction == 'left':\n",
        "        shift_vert = 0\n",
        "        shift_horiz = -1\n",
        "    elif direction == 'right':\n",
        "        shift_vert = 0\n",
        "        shift_horiz = 1\n",
        "    for i in range(len(X_train_shift)):\n",
        "        image = X_train_shift[i]\n",
        "        image = image.reshape((28,28))\n",
        "        image = np.roll(image, (shift_vert, shift_horiz), axis=(0,1))\n",
        "        image = image.reshape(784,)\n",
        "        X_train_shift[i] = image\n",
        "    return(X_train_shift)\n",
        "\n",
        "print(X_train.shape, 'is the shape of the original training set.')\n",
        "print(y_train.shape, 'is the shape of the original training targets.\\n')\n",
        "X_train_up = shift_mnist_images('up', X_train)\n",
        "X_train_down = shift_mnist_images('down', X_train)\n",
        "X_train_left = shift_mnist_images('left', X_train)\n",
        "X_train_right = shift_mnist_images('right', X_train)\n",
        "\n",
        "X_train_aug = np.concatenate([X_train, X_train_up, X_train_down, X_train_left,\n",
        "                             X_train_right])\n",
        "y_train_aug = np.concatenate([y_train, y_train, y_train, y_train, y_train])\n",
        "print(X_train_aug.shape, 'is the shape of the augmented training set.')\n",
        "print(y_train_aug.shape, 'is the shape of the augmented training targets.')"
      ],
      "execution_count": 0,
      "outputs": [
        {
          "output_type": "stream",
          "text": [
            "(60000, 784) is the shape of the original training set.\n",
            "(60000,) is the shape of the original training targets.\n",
            "\n",
            "(300000, 784) is the shape of the augmented training set.\n",
            "(300000,) is the shape of the augmented training targets.\n"
          ],
          "name": "stdout"
        }
      ]
    },
    {
      "cell_type": "code",
      "metadata": {
        "id": "rZgstp9P4Q8r",
        "colab_type": "code",
        "colab": {}
      },
      "source": [
        "knn_clf = KNeighborsClassifier(n_neighbors = 4)"
      ],
      "execution_count": 0,
      "outputs": []
    },
    {
      "cell_type": "code",
      "metadata": {
        "id": "J3g8BZu060fs",
        "colab_type": "code",
        "outputId": "1ee49318-d352-40cd-c709-ec3d84b473a1",
        "colab": {
          "base_uri": "https://localhost:8080/",
          "height": 68
        }
      },
      "source": [
        "knn_clf.fit(X_train_aug, y_train_aug)"
      ],
      "execution_count": 0,
      "outputs": [
        {
          "output_type": "execute_result",
          "data": {
            "text/plain": [
              "KNeighborsClassifier(algorithm='auto', leaf_size=30, metric='minkowski',\n",
              "                     metric_params=None, n_jobs=None, n_neighbors=4, p=2,\n",
              "                     weights='uniform')"
            ]
          },
          "metadata": {
            "tags": []
          },
          "execution_count": 6
        }
      ]
    },
    {
      "cell_type": "code",
      "metadata": {
        "id": "JqgorSpj84tk",
        "colab_type": "code",
        "outputId": "4165ae7b-1240-40a7-e73a-13269c2fc9e9",
        "colab": {
          "base_uri": "https://localhost:8080/",
          "height": 34
        }
      },
      "source": [
        "from sklearn.metrics import accuracy_score\n",
        "y_pred = knn_clf.predict(X_test)\n",
        "accuracy_score(y_test, y_pred)"
      ],
      "execution_count": 0,
      "outputs": [
        {
          "output_type": "execute_result",
          "data": {
            "text/plain": [
              "0.9756"
            ]
          },
          "metadata": {
            "tags": []
          },
          "execution_count": 7
        }
      ]
    },
    {
      "cell_type": "markdown",
      "metadata": {
        "id": "v1BiyL4xV7Kn",
        "colab_type": "text"
      },
      "source": [
        "### Submit your notebook\n",
        "\n",
        "Submit your solution on Canvas"
      ]
    }
  ]
}